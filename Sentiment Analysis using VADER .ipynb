{
 "cells": [
  {
   "cell_type": "code",
   "execution_count": 1,
   "metadata": {},
   "outputs": [
    {
     "name": "stdout",
     "output_type": "stream",
     "text": [
      "C:\\Users\\dell\\Desktop\\NLP-PROJECT\n"
     ]
    }
   ],
   "source": [
    "import os\n",
    "os.getcwd()\n",
    "%cd /Users/dell/Desktop/NLP-PROJECT"
   ]
  },
  {
   "cell_type": "code",
   "execution_count": 2,
   "metadata": {},
   "outputs": [],
   "source": [
    "import tweepy\n",
    "import ssl\n",
    "import matplotlib.pyplot as plt \n",
    "%matplotlib inline "
   ]
  },
  {
   "cell_type": "code",
   "execution_count": null,
   "metadata": {},
   "outputs": [],
   "source": [
    "#COnnecting to the Twitter API\n",
    "consumer_key = \"***********************\"\n",
    "consumer_secret = \"**********************************\"\n",
    "access_token = \"*******************************************\"\n",
    "access_token_secret = \"****************************************\"\n",
    "auth = tweepy.OAuthHandler(consumer_key, consumer_secret)\n",
    "auth.set_access_token(access_token,access_token_secret)\n",
    "ssl._create_default_https_context = ssl._create_unverified_context\n",
    "api = tweepy.API(auth)\n",
    "api = tweepy.API(auth, wait_on_rate_limit=True)\n",
    "\n",
    "# searching for tweets\n",
    "sTerm = input(\"Enter Keyword/Tag to search about: \")\n",
    "nterms = int(input(\"Enter how many tweets to search: \"))\n",
    "#Getting the tweets,Filtering retweets,tweet date from March 2020 onwards with result type as recent tweets\n",
    "tweets = tweepy.Cursor(api.search, q= sTerm+\" -filter:retweets\", lang=\"en\",since=\"2020-03-01\",\n",
    "                       tweet_mode='extended',result_type='recent').items(nterms)\n",
    "#Testing connection\n",
    "user = api.me()\n",
    "print (user.name +\" - Connection Successful to Twitter API\")\n",
    "\n",
    "\n",
    "from vaderSentiment.vaderSentiment import SentimentIntensityAnalyzer \n",
    "sid_obj = SentimentIntensityAnalyzer()\n",
    "pos=0\n",
    "neg=0\n",
    "neutral=0\n",
    "for tweet in tweets:\n",
    "    print(tweet.full_text) # gets the entire tweet\n",
    "    scores = sid_obj.polarity_scores(tweet.full_text) \n",
    "    print(\"Overall sentiment dictionary is : \", scores) \n",
    "    # decide sentiment as positive, negative and neutral\n",
    "    if scores['compound'] >= 0.05 : \n",
    "        pos=pos+1\n",
    "    \n",
    "    elif scores['compound'] <= - 0.05 : \n",
    "        neg=neg+1 \n",
    "    \n",
    "    else : \n",
    "        \n",
    "        neutral=neutral+1\n",
    "print(\"negative tweets \", neg)    \n",
    "print(\"neutral tweets \", neutral)    \n",
    "print(\"positive tweets \", pos)\n",
    "#Plotting Bar Graph\n",
    "\n",
    "\n",
    "import matplotlib.pyplot as plt\n",
    "fig = plt.figure()\n",
    "ax = fig.add_axes([0,0,1,1])\n",
    "senti = ['positive', 'negative', 'neutral']\n",
    "sco = [(pos*0.5),(neg*0.5),(neutral*0.5)]\n",
    "ax.bar(senti,sco)\n",
    "plt.show()"
   ]
  },
  {
   "cell_type": "code",
   "execution_count": null,
   "metadata": {},
   "outputs": [],
   "source": []
  }
 ],
 "metadata": {
  "kernelspec": {
   "display_name": "Python 3",
   "language": "python",
   "name": "python3"
  },
  "language_info": {
   "codemirror_mode": {
    "name": "ipython",
    "version": 3
   },
   "file_extension": ".py",
   "mimetype": "text/x-python",
   "name": "python",
   "nbconvert_exporter": "python",
   "pygments_lexer": "ipython3",
   "version": "3.7.6"
  }
 },
 "nbformat": 4,
 "nbformat_minor": 4
}
